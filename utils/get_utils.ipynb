{
 "cells": [
  {
   "cell_type": "markdown",
   "metadata": {},
   "source": [
    "# Notebook to obtain the coordinates of the boards\n"
   ]
  },
  {
   "cell_type": "markdown",
   "metadata": {},
   "source": [
    "##### Imports"
   ]
  },
  {
   "cell_type": "code",
   "execution_count": 32,
   "metadata": {},
   "outputs": [],
   "source": [
    "from pyautogui import locateOnScreen, moveTo, center\n",
    "from time import sleep\n",
    "\n",
    "# To use the same Box tuple that pyautogui uses\n",
    "from collections import namedtuple\n",
    "Box = namedtuple(\"Box\", [\"left\", \"top\", \"width\", \"height\"])"
   ]
  },
  {
   "cell_type": "markdown",
   "metadata": {},
   "source": [
    "##### Easy"
   ]
  },
  {
   "cell_type": "code",
   "execution_count": 36,
   "metadata": {},
   "outputs": [
    {
     "data": {
      "text/plain": [
       "Box(left=671, top=328, width=318, height=322)"
      ]
     },
     "execution_count": 36,
     "metadata": {},
     "output_type": "execute_result"
    }
   ],
   "source": [
    "coords = locateOnScreen(\"./images/easy_board.png\", confidence=0.95)\n",
    "coords"
   ]
  },
  {
   "cell_type": "code",
   "execution_count": 37,
   "metadata": {},
   "outputs": [],
   "source": [
    "# Remove 3px from each side.\n",
    "adjusted_coords = {\n",
    "  \"left\": coords.left + 3,\n",
    "  \"top\": coords.top + 3,\n",
    "  \"width\": coords.width - 6,\n",
    "  \"height\": coords.height - 6\n",
    "}\n",
    "\n",
    "# Create 9x9 grid of Box objects\n",
    "cell_width = adjusted_coords['width'] / 9\n",
    "cell_height = adjusted_coords['height'] / 9\n",
    "grid_positions = []\n",
    "for row in range(9):\n",
    "  row_positions = []\n",
    "  for col in range(9):\n",
    "    # Calculate box coordinates for each cell\n",
    "    left = adjusted_coords['left'] + (cell_width * col)\n",
    "    top = adjusted_coords['top'] + (cell_height * row)\n",
    "    box = Box(left=int(left), top=int(top), \n",
    "              width=int(cell_width), height=int(cell_height))\n",
    "    row_positions.append(box)\n",
    "  grid_positions.append(row_positions)"
   ]
  },
  {
   "cell_type": "code",
   "execution_count": 40,
   "metadata": {},
   "outputs": [],
   "source": [
    "# Quick test, have minesweeper open on other screen and run this code\n",
    "for x in grid_positions:\n",
    "  for y in x:\n",
    "    temp = center(y)\n",
    "    moveTo(temp.x, temp.y, duration=0.3)\n"
   ]
  },
  {
   "cell_type": "code",
   "execution_count": 39,
   "metadata": {},
   "outputs": [
    {
     "name": "stdout",
     "output_type": "stream",
     "text": [
      "[Box(left=674, top=331, width=34, height=35), Box(left=708, top=331, width=34, height=35), Box(left=743, top=331, width=34, height=35), Box(left=778, top=331, width=34, height=35), Box(left=812, top=331, width=34, height=35), Box(left=847, top=331, width=34, height=35), Box(left=882, top=331, width=34, height=35), Box(left=916, top=331, width=34, height=35), Box(left=951, top=331, width=34, height=35)]\n",
      "[Box(left=674, top=366, width=34, height=35), Box(left=708, top=366, width=34, height=35), Box(left=743, top=366, width=34, height=35), Box(left=778, top=366, width=34, height=35), Box(left=812, top=366, width=34, height=35), Box(left=847, top=366, width=34, height=35), Box(left=882, top=366, width=34, height=35), Box(left=916, top=366, width=34, height=35), Box(left=951, top=366, width=34, height=35)]\n",
      "[Box(left=674, top=401, width=34, height=35), Box(left=708, top=401, width=34, height=35), Box(left=743, top=401, width=34, height=35), Box(left=778, top=401, width=34, height=35), Box(left=812, top=401, width=34, height=35), Box(left=847, top=401, width=34, height=35), Box(left=882, top=401, width=34, height=35), Box(left=916, top=401, width=34, height=35), Box(left=951, top=401, width=34, height=35)]\n",
      "[Box(left=674, top=436, width=34, height=35), Box(left=708, top=436, width=34, height=35), Box(left=743, top=436, width=34, height=35), Box(left=778, top=436, width=34, height=35), Box(left=812, top=436, width=34, height=35), Box(left=847, top=436, width=34, height=35), Box(left=882, top=436, width=34, height=35), Box(left=916, top=436, width=34, height=35), Box(left=951, top=436, width=34, height=35)]\n",
      "[Box(left=674, top=471, width=34, height=35), Box(left=708, top=471, width=34, height=35), Box(left=743, top=471, width=34, height=35), Box(left=778, top=471, width=34, height=35), Box(left=812, top=471, width=34, height=35), Box(left=847, top=471, width=34, height=35), Box(left=882, top=471, width=34, height=35), Box(left=916, top=471, width=34, height=35), Box(left=951, top=471, width=34, height=35)]\n",
      "[Box(left=674, top=506, width=34, height=35), Box(left=708, top=506, width=34, height=35), Box(left=743, top=506, width=34, height=35), Box(left=778, top=506, width=34, height=35), Box(left=812, top=506, width=34, height=35), Box(left=847, top=506, width=34, height=35), Box(left=882, top=506, width=34, height=35), Box(left=916, top=506, width=34, height=35), Box(left=951, top=506, width=34, height=35)]\n",
      "[Box(left=674, top=541, width=34, height=35), Box(left=708, top=541, width=34, height=35), Box(left=743, top=541, width=34, height=35), Box(left=778, top=541, width=34, height=35), Box(left=812, top=541, width=34, height=35), Box(left=847, top=541, width=34, height=35), Box(left=882, top=541, width=34, height=35), Box(left=916, top=541, width=34, height=35), Box(left=951, top=541, width=34, height=35)]\n",
      "[Box(left=674, top=576, width=34, height=35), Box(left=708, top=576, width=34, height=35), Box(left=743, top=576, width=34, height=35), Box(left=778, top=576, width=34, height=35), Box(left=812, top=576, width=34, height=35), Box(left=847, top=576, width=34, height=35), Box(left=882, top=576, width=34, height=35), Box(left=916, top=576, width=34, height=35), Box(left=951, top=576, width=34, height=35)]\n",
      "[Box(left=674, top=611, width=34, height=35), Box(left=708, top=611, width=34, height=35), Box(left=743, top=611, width=34, height=35), Box(left=778, top=611, width=34, height=35), Box(left=812, top=611, width=34, height=35), Box(left=847, top=611, width=34, height=35), Box(left=882, top=611, width=34, height=35), Box(left=916, top=611, width=34, height=35), Box(left=951, top=611, width=34, height=35)]\n"
     ]
    }
   ],
   "source": [
    "# Print for copypaste to utils.py\n",
    "for row in grid_positions:\n",
    "  print(row)\n"
   ]
  },
  {
   "cell_type": "markdown",
   "metadata": {},
   "source": [
    "##### Medium"
   ]
  },
  {
   "cell_type": "markdown",
   "metadata": {},
   "source": [
    "##### Hard"
   ]
  },
  {
   "cell_type": "markdown",
   "metadata": {},
   "source": [
    "##### Evil"
   ]
  }
 ],
 "metadata": {
  "kernelspec": {
   "display_name": "Python 3",
   "language": "python",
   "name": "python3"
  },
  "language_info": {
   "codemirror_mode": {
    "name": "ipython",
    "version": 3
   },
   "file_extension": ".py",
   "mimetype": "text/x-python",
   "name": "python",
   "nbconvert_exporter": "python",
   "pygments_lexer": "ipython3",
   "version": "3.10.10"
  }
 },
 "nbformat": 4,
 "nbformat_minor": 2
}
