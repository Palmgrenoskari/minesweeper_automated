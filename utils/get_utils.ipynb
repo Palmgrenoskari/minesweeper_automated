{
 "cells": [
  {
   "cell_type": "markdown",
   "metadata": {},
   "source": [
    "# Notebook to obtain the coordinates of the boards\n"
   ]
  },
  {
   "cell_type": "markdown",
   "metadata": {},
   "source": [
    "##### Imports"
   ]
  },
  {
   "cell_type": "code",
   "execution_count": 1,
   "metadata": {},
   "outputs": [],
   "source": [
    "from pyautogui import *\n",
    "from time import sleep\n"
   ]
  },
  {
   "cell_type": "markdown",
   "metadata": {},
   "source": [
    "##### Easy"
   ]
  },
  {
   "cell_type": "code",
   "execution_count": 4,
   "metadata": {},
   "outputs": [
    {
     "data": {
      "text/plain": [
       "Box(left=671, top=328, width=318, height=322)"
      ]
     },
     "execution_count": 4,
     "metadata": {},
     "output_type": "execute_result"
    }
   ],
   "source": [
    "coords = locateOnScreen(\"./images/easy_board.png\", confidence=0.95)\n",
    "coords"
   ]
  },
  {
   "cell_type": "code",
   "execution_count": 6,
   "metadata": {},
   "outputs": [],
   "source": [
    "# Remove 3px from each side.\n",
    "adjusted_coords = {\n",
    "  \"left\": coords.left + 3,\n",
    "  \"top\": coords.top + 3,\n",
    "  \"width\": coords.width - 6,\n",
    "  \"height\": coords.height - 6\n",
    "}\n",
    "\n",
    "# Create 9x9 grid of coordinates\n",
    "cell_width = adjusted_coords['width'] / 9\n",
    "cell_height = adjusted_coords['height'] / 9\n",
    "grid_positions = []\n",
    "for row in range(9):\n",
    "  row_positions = []\n",
    "  for col in range(9):\n",
    "    # cell_width and cell_height to get the center of the cell\n",
    "    x = adjusted_coords['left'] + (cell_width * col) + (cell_width / 2)\n",
    "    y = adjusted_coords['top'] + (cell_height * row) + (cell_height / 2)\n",
    "    row_positions.append((int(x), int(y)))\n",
    "  grid_positions.append(row_positions)"
   ]
  },
  {
   "cell_type": "code",
   "execution_count": 8,
   "metadata": {},
   "outputs": [
    {
     "data": {
      "text/plain": [
       "(691, 348)"
      ]
     },
     "execution_count": 8,
     "metadata": {},
     "output_type": "execute_result"
    }
   ],
   "source": [
    "grid_positions[0][0]"
   ]
  },
  {
   "cell_type": "code",
   "execution_count": 12,
   "metadata": {},
   "outputs": [],
   "source": [
    "# Quick test, have minesweeper open on other screen and run this code\n",
    "for x in grid_positions:\n",
    "  for y in x:\n",
    "    moveTo(y[0], y[1], duration=0.3)\n"
   ]
  },
  {
   "cell_type": "code",
   "execution_count": 10,
   "metadata": {},
   "outputs": [
    {
     "name": "stdout",
     "output_type": "stream",
     "text": [
      "[(691, 348), (726, 348), (760, 348), (795, 348), (830, 348), (864, 348), (899, 348), (934, 348), (968, 348)]\n",
      "[(691, 383), (726, 383), (760, 383), (795, 383), (830, 383), (864, 383), (899, 383), (934, 383), (968, 383)]\n",
      "[(691, 418), (726, 418), (760, 418), (795, 418), (830, 418), (864, 418), (899, 418), (934, 418), (968, 418)]\n",
      "[(691, 453), (726, 453), (760, 453), (795, 453), (830, 453), (864, 453), (899, 453), (934, 453), (968, 453)]\n",
      "[(691, 489), (726, 489), (760, 489), (795, 489), (830, 489), (864, 489), (899, 489), (934, 489), (968, 489)]\n",
      "[(691, 524), (726, 524), (760, 524), (795, 524), (830, 524), (864, 524), (899, 524), (934, 524), (968, 524)]\n",
      "[(691, 559), (726, 559), (760, 559), (795, 559), (830, 559), (864, 559), (899, 559), (934, 559), (968, 559)]\n",
      "[(691, 594), (726, 594), (760, 594), (795, 594), (830, 594), (864, 594), (899, 594), (934, 594), (968, 594)]\n",
      "[(691, 629), (726, 629), (760, 629), (795, 629), (830, 629), (864, 629), (899, 629), (934, 629), (968, 629)]\n"
     ]
    }
   ],
   "source": [
    "# Print to move the cell coordinates to utils.py\n",
    "for row in grid_positions:\n",
    "  print(row)\n"
   ]
  },
  {
   "cell_type": "markdown",
   "metadata": {},
   "source": [
    "##### Medium"
   ]
  },
  {
   "cell_type": "markdown",
   "metadata": {},
   "source": [
    "##### Hard"
   ]
  },
  {
   "cell_type": "markdown",
   "metadata": {},
   "source": [
    "##### Evil"
   ]
  }
 ],
 "metadata": {
  "kernelspec": {
   "display_name": "Python 3",
   "language": "python",
   "name": "python3"
  },
  "language_info": {
   "codemirror_mode": {
    "name": "ipython",
    "version": 3
   },
   "file_extension": ".py",
   "mimetype": "text/x-python",
   "name": "python",
   "nbconvert_exporter": "python",
   "pygments_lexer": "ipython3",
   "version": "3.10.10"
  }
 },
 "nbformat": 4,
 "nbformat_minor": 2
}
